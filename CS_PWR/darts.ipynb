{
  "cells": [
    {
      "cell_type": "markdown",
      "metadata": {
        "id": "view-in-github",
        "colab_type": "text"
      },
      "source": [
        "<a href=\"https://colab.research.google.com/github/DmytroZavhorodnii/DmytroZavhorodnii.github.io/blob/master/CS_PWR/darts.ipynb\" target=\"_parent\"><img src=\"https://colab.research.google.com/assets/colab-badge.svg\" alt=\"Open In Colab\"/></a>"
      ]
    },
    {
      "cell_type": "markdown",
      "id": "f6a52b2f-8a06-4fe6-8f5c-a1dd2e7c082d",
      "metadata": {
        "id": "f6a52b2f-8a06-4fe6-8f5c-a1dd2e7c082d"
      },
      "source": [
        "### Darts - LISTA1 - Dmytro Zavhorodnii"
      ]
    },
    {
      "cell_type": "code",
      "execution_count": 36,
      "id": "35158f55-35b5-4e6f-961b-69f11ec43253",
      "metadata": {
        "colab": {
          "base_uri": "https://localhost:8080/",
          "height": 753
        },
        "id": "35158f55-35b5-4e6f-961b-69f11ec43253",
        "outputId": "3d71bc72-2921-413e-e85d-e9454284f832"
      },
      "outputs": [
        {
          "output_type": "stream",
          "name": "stdout",
          "text": [
            "Wartość statystyki Shapiro-Wilka: 0.9271634610503064\n",
            "Wartość p: 3.448055100101802e-05\n",
            "Dane nie mają rozkładu normalnego (p <= 0.05), co może podważać test Studenta\n",
            "Statystyka t: -7.701125391349743\n",
            "Wartość krytyczna t: 1.6603911559963895\n",
            "Brak podstaw do odrzucenia hipotezy zerowej.\n",
            "Wyniki punktowe: [5, 1, 0, 3, 0, 1, 0, 5, 5, 1, 1, 3, 0, 7, 1, 2, 6, 3, 2, 7, 5, 0, 6, 7, 4, 1, 8, 4, 0, 7, 2, 4, 6, 0, 1, 7, 1, 3, 6, 6, 1, 4, 8, 5, 1, 1, 3, 1, 0, 0, 5, 10, 3, 5, 3, 1, 0, 2, 3, 3, 2, 6, 4, 0, 1, 3, 1, 2, 5, 5, 2, 2, 6, 8, 3, 3, 5, 0, 0, 0, 0, 0, 4, 7, 5, 3, 6, 0, 3, 0, 2, 4, 4, 1, 0, 4, 8, 3, 2, 4]\n",
            "Średnia: 3.08\n",
            "Odchylenie standardowe: 2.49314210901777\n"
          ]
        },
        {
          "output_type": "display_data",
          "data": {
            "text/plain": [
              "<Figure size 640x480 with 1 Axes>"
            ],
            "image/png": "[encoded data removed]"
          },
          "metadata": {}
        },
        {
          "output_type": "stream",
          "name": "stdout",
          "text": [
            "Oczekiwane częstości: [9.09090909 9.09090909 9.09090909 9.09090909 9.09090909 9.09090909\n",
            " 9.09090909 9.09090909 9.09090909 9.09090909 9.09090909]\n",
            "Wszystkie oczekiwane częstości są większe lub równe 5.\n",
            "Statystyka Chi-kwadrat: 40.8\n",
            "Wartość krytyczna Chi-kwadrat: 18.307038053275146\n",
            "Odrzucamy hipotezę zerową o rozkładzie równomiernym.\n"
          ]
        }
      ],
      "source": [
        "n = 100\n",
        "x_c = []\n",
        "y_c = []\n",
        "res_xy = []\n",
        "point_xy = []\n",
        "\n",
        "for i in range(n):\n",
        "    x_c.append(random.uniform(0, 40))\n",
        "    y_c.append(random.uniform(0, 40))\n",
        "    res_xy.append(math.sqrt(math.pow(20 - x_c[i], 2) + math.pow(20 - y_c[i], 2)))\n",
        "\n",
        "\n",
        "    category = max(0, 10 - int(res_xy[i] // 2))\n",
        "    point_xy.append(category)\n",
        "\n",
        "\n",
        "shapiro_stat, p_value_shapiro = stats.shapiro(point_xy)\n",
        "print(f\"Wartość statystyki Shapiro-Wilka: {shapiro_stat}\")\n",
        "print(f\"Wartość p: {p_value_shapiro}\")\n",
        "\n",
        "if p_value_shapiro > 0.05:\n",
        "    print(\"Dane mają rozkład normalny (p > 0.05)\")\n",
        "else:\n",
        "    print(\"Dane nie mają rozkładu normalnego (p <= 0.05), co może podważać test Studenta\")\n",
        "\n",
        "# Testowanie hipotezy o średniej\n",
        "# Hipoteza H0: średnia wyników = 5, H1: średnia wyników > 5\n",
        "mu_0 = 5  # średnia z hipotezy zerowej\n",
        "\n",
        "# Obliczenie średniej i odchylenia standardowego\n",
        "mean_x = np.mean(point_xy)\n",
        "std_x = np.std(point_xy, ddof=1)  # ddof=1, bo obliczamy dla próby\n",
        "\n",
        "# Obliczenie statystyki t\n",
        "t_statistic = (mean_x - mu_0) / (std_x / np.sqrt(n))\n",
        "\n",
        "# Wartość krytyczna dla t-Studenta (jednostronny test, alfa = 0.05, df = n-1)\n",
        "alpha = 0.05\n",
        "df = n - 1  # stopnie swobody\n",
        "t_critical = stats.t.ppf(1 - alpha, df)\n",
        "\n",
        "# Wyniki testu t-Studenta\n",
        "print(f\"Statystyka t: {t_statistic}\")\n",
        "print(f\"Wartość krytyczna t: {t_critical}\")\n",
        "\n",
        "if t_statistic > t_critical:\n",
        "    print(\"Odrzucamy hipotezę zerową. Średnia jest statystycznie istotnie większa od 5.\")\n",
        "else:\n",
        "    print(\"Brak podstaw do odrzucenia hipotezy zerowej.\")\n",
        "\n",
        "# Statystyki\n",
        "print(f\"Wyniki punktowe: {point_xy}\")\n",
        "print(f\"Średnia: {mean_x}\")\n",
        "print(f\"Odchylenie standardowe: {std_x}\")\n",
        "\n",
        "# d) Rysowanie histogramu z poprawioną osią Y (częstość występowania)\n",
        "plt.hist(point_xy, bins=np.arange(-0.5, 11.5, 1), alpha=0.7, color='blue', rwidth=0.85)\n",
        "plt.title('Histogram wyników łucznika')\n",
        "plt.xlabel('Wyniki')\n",
        "plt.ylabel('Częstość występowania')\n",
        "plt.xticks(range(11))\n",
        "plt.grid(True)\n",
        "plt.show()\n",
        "\n",
        "# e) Test Chi-kwadrat\n",
        "# Hipoteza H0: rozkład wyników jest równomierny, H1: rozkład wyników nie jest równomierny\n",
        "# Częstości obserwowanych wyników\n",
        "observed_counts = np.bincount(point_xy, minlength=11)\n",
        "\n",
        "# Wartości w rozкладе równомierном\n",
        "expected_counts = np.full(11, n / 11)\n",
        "\n",
        "# Sprawdzanie, czy oczekiwane wartości są większe lub równe 5\n",
        "print(f\"Oczekiwane częstości: {expected_counts}\")\n",
        "\n",
        "if np.any(expected_counts < 5):\n",
        "    print(\"Uwaga: niektóre oczekiwane częstości są mniejsze niż 5, co może wpływać na wynik testu Chi-kwadrat.\")\n",
        "else:\n",
        "    print(\"Wszystkie oczekiwane częstości są większe lub równe 5.\")\n",
        "\n",
        "# Обчисление статистики Chi-квадрат вручную\n",
        "chi2_statistic = np.sum((observed_counts - expected_counts) ** 2 / expected_counts)\n",
        "\n",
        "# Chi-квадрат для alfa = 0.05 и df = 10 (11 kategorii - 1)\n",
        "chi2_critical = stats.chi2.ppf(1 - 0.05, df=10)\n",
        "\n",
        "# Wyniki тесту Chi-квадрат\n",
        "print(f\"Statystyka Chi-kwadrat: {chi2_statistic}\")\n",
        "print(f\"Wartość krytyczna Chi-kwadrat: {chi2_critical}\")\n",
        "\n",
        "if chi2_statistic > chi2_critical:\n",
        "    print(\"Odrzucamy hipotezę zerową o rozkładzie równomiernym.\")\n",
        "else:\n",
        "    print(\"Brak podstaw do odrzucenia hipotezy o rozkładzie równomiernym.\")\n"
      ]
    },
    {
      "cell_type": "code",
      "source": [],
      "metadata": {
        "id": "fjriMEGd6vHE"
      },
      "id": "fjriMEGd6vHE",
      "execution_count": null,
      "outputs": []
    }
  ],
  "metadata": {
    "kernelspec": {
      "display_name": "Python 3 (ipykernel)",
      "language": "python",
      "name": "python3"
    },
    "language_info": {
      "codemirror_mode": {
        "name": "ipython",
        "version": 3
      },
      "file_extension": ".py",
      "mimetype": "text/x-python",
      "name": "python",
      "nbconvert_exporter": "python",
      "pygments_lexer": "ipython3",
      "version": "3.12.0"
    },
    "colab": {
      "provenance": [],
      "include_colab_link": true
    }
  },
  "nbformat": 4,
  "nbformat_minor": 5
}