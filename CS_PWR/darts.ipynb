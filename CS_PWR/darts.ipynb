{
  "cells": [
    {
      "cell_type": "markdown",
      "metadata": {
        "id": "view-in-github",
        "colab_type": "text"
      },
      "source": [
        "<a href=\"https://colab.research.google.com/github/DmytroZavhorodnii/DmytroZavhorodnii.github.io/blob/master/CS_PWR/darts.ipynb\" target=\"_parent\"><img src=\"https://colab.research.google.com/assets/colab-badge.svg\" alt=\"Open In Colab\"/></a>"
      ]
    },
    {
      "cell_type": "markdown",
      "id": "f6a52b2f-8a06-4fe6-8f5c-a1dd2e7c082d",
      "metadata": {
        "id": "f6a52b2f-8a06-4fe6-8f5c-a1dd2e7c082d"
      },
      "source": [
        "### Darts - LISTA1 - Dmytro Zavhorodnii"
      ]
    },
    {
      "cell_type": "code",
      "execution_count": 21,
      "id": "35158f55-35b5-4e6f-961b-69f11ec43253",
      "metadata": {
        "colab": {
          "base_uri": "https://localhost:8080/",
          "height": 894
        },
        "id": "35158f55-35b5-4e6f-961b-69f11ec43253",
        "outputId": "8153e94f-e5e2-406b-b464-08d0aa069ef6"
      },
      "outputs": [
        {
          "output_type": "stream",
          "name": "stdout",
          "text": [
            "Wartość statystyki Shapiro-Wilka: 0.9207572865644972\n",
            "Wartość p: 1.5442169526576576e-05\n",
            "Dane nie mają rozkładu normalnego (p <= 0.05), co może podważać test Studenta\n",
            "Statystyka t: -2.867092012213454\n",
            "Wartość krytyczna t: 1.6603911559963895\n",
            "Brak podstaw do odrzucenia hipotezy zerowej.\n",
            "Wyniki punktowe: [9, 4, 3, 0, 7, 2, 6, 2, 9, 2, 0, 2, 3, 10, 0, 3, 7, 6, 2, 7, 3, 8, 0, 2, 0, 5, 1, 9, 6, 6, 2, 3, 11, 3, 4, 5, 11, 8, 5, 5, 0, 0, 7, 8, 2, 5, 9, 1, 9, 2, 8, 10, 0, 4, 9, 1, 4, 5, 3, 2, 7, 3, 1, 3, 9, 1, 6, 4, 0, 9, 9, 4, 9, 0, 6, 9, 8, 0, 0, 6, 2, 0, 2, 1, 0, 3, 3, 2, 0, 1, 1, 3, 0, 3, 2, 1, 6, 5, 3, 6]\n",
            "Średnia: 4.08\n",
            "Odchylenie standardowe: 3.2088262116489976\n"
          ]
        },
        {
          "output_type": "display_data",
          "data": {
            "text/plain": [
              "<Figure size 640x480 with 1 Axes>"
            ],
            "image/png": "[encoded data removed]"
          },
          "metadata": {}
        },
        {
          "output_type": "stream",
          "name": "stdout",
          "text": [
            "Oczekiwane częstości: [9.09090909 9.09090909 9.09090909 9.09090909 9.09090909 9.09090909\n",
            " 9.09090909 9.09090909 9.09090909 9.09090909 9.09090909]\n",
            "Wszystkie oczekiwane częstości są większe lub równe 5.\n"
          ]
        },
        {
          "output_type": "error",
          "ename": "ValueError",
          "evalue": "operands could not be broadcast together with shapes (12,) (11,) ",
          "traceback": [
            "\u001b[0;31m---------------------------------------------------------------------------\u001b[0m",
            "\u001b[0;31mValueError\u001b[0m                                Traceback (most recent call last)",
            "\u001b[0;32m<ipython-input-21-dcf5ece6639f>\u001b[0m in \u001b[0;36m<cell line: 82>\u001b[0;34m()\u001b[0m\n\u001b[1;32m     80\u001b[0m \u001b[0;34m\u001b[0m\u001b[0m\n\u001b[1;32m     81\u001b[0m \u001b[0;31m# Obliczenie statystyki Chi-kwadrat ręcznie\u001b[0m\u001b[0;34m\u001b[0m\u001b[0;34m\u001b[0m\u001b[0m\n\u001b[0;32m---> 82\u001b[0;31m \u001b[0mchi2_statistic\u001b[0m \u001b[0;34m=\u001b[0m \u001b[0mnp\u001b[0m\u001b[0;34m.\u001b[0m\u001b[0msum\u001b[0m\u001b[0;34m(\u001b[0m\u001b[0;34m(\u001b[0m\u001b[0mobserved_counts\u001b[0m \u001b[0;34m-\u001b[0m \u001b[0mexpected_counts\u001b[0m\u001b[0;34m)\u001b[0m \u001b[0;34m**\u001b[0m \u001b[0;36m2\u001b[0m \u001b[0;34m/\u001b[0m \u001b[0mexpected_counts\u001b[0m\u001b[0;34m)\u001b[0m\u001b[0;34m\u001b[0m\u001b[0;34m\u001b[0m\u001b[0m\n\u001b[0m\u001b[1;32m     83\u001b[0m \u001b[0;34m\u001b[0m\u001b[0m\n\u001b[1;32m     84\u001b[0m \u001b[0;31m# Chi-kwadrat dla alfa = 0.05 i df = 10 (11 kategorii - 1)\u001b[0m\u001b[0;34m\u001b[0m\u001b[0;34m\u001b[0m\u001b[0m\n",
            "\u001b[0;31mValueError\u001b[0m: operands could not be broadcast together with shapes (12,) (11,) "
          ]
        }
      ],
      "source": [
        "n = 100\n",
        "x_c = []\n",
        "y_c = []\n",
        "res_xy = []\n",
        "point_xy = []\n",
        "\n",
        "for i in range(n):\n",
        "    x_c.append(random.uniform(0, 40))\n",
        "    y_c.append(random.uniform(0, 40))\n",
        "    res_xy.append(math.sqrt(math.pow(20 - x_c[i], 2) + math.pow(20 - y_c[i], 2)))\n",
        "\n",
        "    # Obliczenie kategorii za pomocą max\n",
        "    category = max(0, 11 - int(res_xy[i] // 2))  # Dzielenie całkowite dla określenia zakresu, maksimum 0\n",
        "    point_xy.append(category)\n",
        "\n",
        "# Sprawdzenie normalności rozkładu danych - test Shapiro-Wilka\n",
        "shapiro_stat, p_value_shapiro = stats.shapiro(point_xy)\n",
        "print(f\"Wartość statystyki Shapiro-Wilka: {shapiro_stat}\")\n",
        "print(f\"Wartość p: {p_value_shapiro}\")\n",
        "\n",
        "if p_value_shapiro > 0.05:\n",
        "    print(\"Dane mają rozkład normalny (p > 0.05)\")\n",
        "else:\n",
        "    print(\"Dane nie mają rozkładu normalnego (p <= 0.05), co może podważać test Studenta\")\n",
        "\n",
        "# Testowanie hipotezy dotyczącej średniej\n",
        "# Hipoteza H0: średnia wyników = 5, H1: średnia wyników > 5\n",
        "mu_0 = 5  # średnia w hipotezie zerowej\n",
        "\n",
        "# Obliczenie średniej i odchylenia standardowego\n",
        "mean_x = np.mean(point_xy)\n",
        "std_x = np.std(point_xy, ddof=1)  # ddof=1, ponieważ obliczamy dla próby\n",
        "\n",
        "# Obliczenie statystyki t\n",
        "t_statistic = (mean_x - mu_0) / (std_x / np.sqrt(n))\n",
        "\n",
        "# Wartość krytyczna dla t-Studenta (test jednostronny, alfa = 0.05, df = n-1)\n",
        "alpha = 0.05\n",
        "df = n - 1  # stopnie swobody\n",
        "t_critical = stats.t.ppf(1 - alpha, df)\n",
        "\n",
        "# Wyniki testu t-Studenta\n",
        "print(f\"Statystyka t: {t_statistic}\")\n",
        "print(f\"Wartość krytyczna t: {t_critical}\")\n",
        "\n",
        "if t_statistic > t_critical:\n",
        "    print(\"Odrzucamy hipotezę zerową. Średnia jest statystycznie istotnie większa od 5.\")\n",
        "else:\n",
        "    print(\"Brak podstaw do odrzucenia hipotezy zerowej.\")\n",
        "\n",
        "# Statystyki\n",
        "print(f\"Wyniki punktowe: {point_xy}\")\n",
        "print(f\"Średnia: {mean_x}\")\n",
        "print(f\"Odchylenie standardowe: {std_x}\")\n",
        "\n",
        "# d) Rysowanie histogramu z poprawioną osią Y (częstość występowania)\n",
        "plt.hist(point_xy, bins=np.arange(-0.5, 11.5, 1), alpha=0.7, color='blue', rwidth=0.85)\n",
        "plt.title('Histogram wyników łucznika')\n",
        "plt.xlabel('Wyniki')\n",
        "plt.ylabel('Częstość występowania')\n",
        "plt.xticks(range(11))\n",
        "plt.grid(True)\n",
        "plt.show()\n",
        "\n",
        "# e) Test Chi-kwadrat\n",
        "# Hipoteza H0: rozkład wyników jest równomierny, H1: rozkład wyników nie jest równomierny\n",
        "# Częstości obserwowanych wyników\n",
        "observed_counts = np.bincount(point_xy, minlength=11)\n",
        "\n",
        "# Wartości w rozkładzie równomiernym\n",
        "expected_counts = np.full(11, n / 11)\n",
        "\n",
        "# Sprawdzanie, czy oczekiwane wartości są większe lub równe 5\n",
        "print(f\"Oczekiwane częstości: {expected_counts}\")\n",
        "\n",
        "if np.any(expected_counts < 5):\n",
        "    print(\"Uwaga: niektóre oczekiwane częstości są mniejsze niż 5, co może wpływać na wynik testu Chi-kwadrat.\")\n",
        "else:\n",
        "    print(\"Wszystkie oczekiwane częstości są większe lub równe 5.\")\n",
        "\n",
        "# Obliczenie statystyki Chi-kwadrat ręcznie\n",
        "chi2_statistic = np.sum((observed_counts - expected_counts) ** 2 / expected_counts)\n",
        "\n",
        "# Chi-kwadrat dla alfa = 0.05 i df = 10 (11 kategorii - 1)\n",
        "chi2_critical = stats.chi2.ppf(1 - 0.05, df=10)\n",
        "\n",
        "# Wyniki testu Chi-kwadrat\n",
        "print(f\"Statystyka Chi-kwadrat: {chi2_statistic}\")\n",
        "print(f\"Wartość krytyczna Chi-kwadrat: {chi2_critical}\")\n",
        "\n",
        "if chi2_statistic > chi2_critical:\n",
        "    print(\"Odrzucamy hipotezę zerową o rozkładzie równomiernym.\")\n",
        "else:\n",
        "    print(\"Brak podstaw do odrzucenia hipotezy o rozkładzie równomiernym.\")\n"
      ]
    },
    {
      "cell_type": "code",
      "source": [],
      "metadata": {
        "id": "fjriMEGd6vHE"
      },
      "id": "fjriMEGd6vHE",
      "execution_count": null,
      "outputs": []
    }
  ],
  "metadata": {
    "kernelspec": {
      "display_name": "Python 3 (ipykernel)",
      "language": "python",
      "name": "python3"
    },
    "language_info": {
      "codemirror_mode": {
        "name": "ipython",
        "version": 3
      },
      "file_extension": ".py",
      "mimetype": "text/x-python",
      "name": "python",
      "nbconvert_exporter": "python",
      "pygments_lexer": "ipython3",
      "version": "3.12.0"
    },
    "colab": {
      "provenance": [],
      "include_colab_link": true
    }
  },
  "nbformat": 4,
  "nbformat_minor": 5
}